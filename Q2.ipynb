{
 "cells": [
  {
   "cell_type": "code",
   "execution_count": 3,
   "metadata": {},
   "outputs": [
    {
     "name": "stdout",
     "output_type": "stream",
     "text": [
      "Original list:  [1, 2, 3, 4, 5, 6]\n",
      "Largest product of the pair of adjacent elements of the said list: 30\n"
     ]
    }
   ],
   "source": [
    "def adjacent_num_product(list_nums):\n",
    "   return max(a*b for a, b in zip(list_nums, list_nums[1:]))\n",
    "nums = [1,2,3,4,5,6]\n",
    "print(\"Original list: \",nums)\n",
    "print(\"Largest product of the pair of adjacent elements of the said list:\", adjacent_num_product(nums))"
   ]
  },
  {
   "cell_type": "code",
   "execution_count": 5,
   "metadata": {},
   "outputs": [
    {
     "name": "stdout",
     "output_type": "stream",
     "text": [
      "Largest product of the pair of adjacent elements of the said list: 21\n"
     ]
    }
   ],
   "source": [
    "def solution(inputArray):\n",
    "    return max(a*b for a,b in zip(inputArray, inputArray[1:]))\n",
    "inputArray = [3, 6, -2, -5, 7, 3]\n",
    "print(\"Largest product of the pair of adjacent elements of the said list:\", solution(inputArray))\n"
   ]
  },
  {
   "cell_type": "code",
   "execution_count": 21,
   "metadata": {},
   "outputs": [
    {
     "name": "stdout",
     "output_type": "stream",
     "text": [
      "25\n"
     ]
    }
   ],
   "source": [
    "def solution(n):\n",
    "    return(((n-1)**2)+ (n)**2)\n",
    "n = 4\n",
    "print(solution(n))\n"
   ]
  },
  {
   "cell_type": "code",
   "execution_count": 74,
   "metadata": {},
   "outputs": [
    {
     "name": "stdout",
     "output_type": "stream",
     "text": [
      "3\n",
      "Ratiorg needs statues of sizes 4, 5, and 7.\n"
     ]
    }
   ],
   "source": [
    "def solution(statues):\n",
    "    numbers = set(statues)\n",
    "    length = len(statues)\n",
    "    output = []\n",
    "    for i in range(min(statues),statues[-1]):\n",
    "        if i not in numbers:\n",
    "            output.append(i)\n",
    "    return output\n",
    "\n",
    "statues = [6, 2, 3, 8]\n",
    "print(len(solution(statues)))\n",
    "print(\"Ratiorg needs statues of sizes \" + str(solution(statues))[1] + \", \" + str(solution(statues))[4] + \", and \" + str(solution(statues))[7] + \".\")"
   ]
  },
  {
   "cell_type": "code",
   "execution_count": 76,
   "metadata": {},
   "outputs": [
    {
     "name": "stdout",
     "output_type": "stream",
     "text": [
      "3\n"
     ]
    }
   ],
   "source": [
    "def solution(statues):\n",
    "    return max(statues) - min(statues) - len(statues) + 1\n",
    "statues = [6, 2, 3, 8]\n",
    "print((solution(statues)))"
   ]
  },
  {
   "cell_type": "code",
   "execution_count": 7,
   "metadata": {},
   "outputs": [
    {
     "name": "stdout",
     "output_type": "stream",
     "text": [
      "False\n"
     ]
    }
   ],
   "source": [
    "def solution(sequence):\n",
    "    def check_increasing(seq):\n",
    "    # This will check if it is increasing:\n",
    "    # If it is return -1 else return the element at which is it not increasing\n",
    "        for i in range(len(seq)-1):\n",
    "            if seq[i] >= seq[i+1]:\n",
    "                return i\n",
    "        return -1\n",
    "    check = check_increasing(sequence)\n",
    "    # List is increasing\n",
    "    if check == -1:\n",
    "        return True\n",
    "    # Check if removing an item will make a strictly increasing list\n",
    "    if check_increasing(sequence[check-1:check] + sequence[check+1:]) == -1 or check_increasing(sequence[check:check+1] + sequence[check+2:]) == -1:\n",
    "        return True\n",
    "    # If not return False, since more than 1 element needs to be removed\n",
    "    return False\n",
    "\n",
    "sequence = [11,2,10,5,7]\n",
    "print(solution(sequence))\n",
    "\n"
   ]
  }
 ],
 "metadata": {
  "kernelspec": {
   "display_name": "Python 3",
   "language": "python",
   "name": "python3"
  },
  "language_info": {
   "codemirror_mode": {
    "name": "ipython",
    "version": 3
   },
   "file_extension": ".py",
   "mimetype": "text/x-python",
   "name": "python",
   "nbconvert_exporter": "python",
   "pygments_lexer": "ipython3",
   "version": "3.9.12"
  },
  "orig_nbformat": 4,
  "vscode": {
   "interpreter": {
    "hash": "0186a538ad27e2db57fefa14172f824d8896a2c272936670a25fa8d5fb9a4dc9"
   }
  }
 },
 "nbformat": 4,
 "nbformat_minor": 2
}
