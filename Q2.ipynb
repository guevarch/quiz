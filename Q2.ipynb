{
 "cells": [
  {
   "cell_type": "code",
   "execution_count": 3,
   "metadata": {},
   "outputs": [
    {
     "name": "stdout",
     "output_type": "stream",
     "text": [
      "Original list:  [1, 2, 3, 4, 5, 6]\n",
      "Largest product of the pair of adjacent elements of the said list: 30\n"
     ]
    }
   ],
   "source": [
    "def adjacent_num_product(list_nums):\n",
    "   return max(a*b for a, b in zip(list_nums, list_nums[1:]))\n",
    "nums = [1,2,3,4,5,6]\n",
    "print(\"Original list: \",nums)\n",
    "print(\"Largest product of the pair of adjacent elements of the said list:\", adjacent_num_product(nums))"
   ]
  },
  {
   "cell_type": "code",
   "execution_count": null,
   "metadata": {},
   "outputs": [],
   "source": [
    "# Scenario\n",
    "# Once upon a time there was a land - a land of milk and honey, inhabited by happy and prosperous people. The people paid taxes, of course - their happiness had limits. The most important tax, called the Personal Income Tax (PIT for short) had to be paid once a year, and was evaluated using the following rule:\n",
    "\n",
    "# if the citizen's income was not higher than 85,528 thalers, the tax was equal to 18% of the income minus 556 thalers and 2 cents (this was the so-called tax relief)\n",
    "# if the income was higher than this amount, the tax was equal to 14,839 thalers and 2 cents, plus 32% of the surplus over 85,528 thalers.\n",
    "\n",
    "\n",
    "income = float(input(\"Enter the annual income: \"))\n",
    "\n",
    "if income <= 85528:\n",
    "    tax = (income * (.18)) - 556 - .02\n",
    "else:\n",
    "    tax = 14839.02 + (.32*(income - 85528))\n",
    "\n",
    "tax = round(tax, 0)\n",
    "print(\"The tax is:\", tax, \"thalers\")\n"
   ]
  },
  {
   "cell_type": "code",
   "execution_count": null,
   "metadata": {},
   "outputs": [],
   "source": [
    "# Scenario\n",
    "# Spathiphyllum, more commonly known as a peace lily or white sail plant, is one of the most popular indoor houseplants that filters out harmful toxins from the air. Some of the toxins that it neutralizes include benzene, formaldehyde, and ammonia.\n",
    "\n",
    "# Imagine that your computer program loves these plants. Whenever it receives an input in the form of the word Spathiphyllum, it involuntarily shouts to the console the following string: \"Spathiphyllum is the best plant ever!\"\n",
    "\n",
    "\n",
    "# Write a program that utilizes the concept of conditional execution, takes a string as input, and:\n",
    "\n",
    "# prints the sentence \"Yes - Spathiphyllum is the best plant ever!\" to the screen if the inputted string is \"Spathiphyllum\" (upper-case)\n",
    "# prints \"No, I want a big Spathiphyllum!\" if the inputted string is \"spathiphyllum\" (lower-case)\n",
    "# prints \"Spathiphyllum! Not [input]!\" otherwise. Note: [input] is the string taken as input.\n",
    "\n",
    "\n",
    "input = input(\"What is the plant species? : \")\n",
    "\n",
    "if input == \"Spathiphyllum\":\n",
    "    print(\"Yes - Spathiphyllum is the best plant ever!\")\n",
    "    \n",
    "if input == \"spathiphyllum\":\n",
    "     print(\"No, I want a big Spathiphyllum!\"),\n",
    "\n",
    "if input != \"Spathiphyllum\" :\n",
    "     print(\"Spathiphyllum! \" + input)"
   ]
  },
  {
   "cell_type": "code",
   "execution_count": null,
   "metadata": {},
   "outputs": [],
   "source": [
    "num1 = int(input())\n",
    "num2 = int(input())\n",
    "num3 = int(input())\n",
    "\n",
    "larger_numb = num3\n",
    "\n",
    "if num1 > larger_numb:\n",
    "    larger_numb = num1\n",
    "if num2 > larger_numb:\n",
    "    larger_numb = num2\n",
    "print(\"The larger number is: \",larger_numb )\n",
    "\n",
    "## another example using max\n",
    "\n",
    "# Read three numbers.\n",
    "number1 = int(input(\"Enter the first number: \"))\n",
    "number2 = int(input(\"Enter the second number: \"))\n",
    "number3 = int(input(\"Enter the third number: \"))\n",
    "\n",
    "# Check which one of the numbers is the greatest\n",
    "# and pass it to the largest_number variable.\n",
    "\n",
    "largest_number = max(number1, number2, number3)\n",
    "\n",
    "# Print the result.\n",
    "print(\"The largest number is:\", largest_number)"
   ]
  },
  {
   "cell_type": "code",
   "execution_count": 5,
   "metadata": {},
   "outputs": [
    {
     "name": "stdout",
     "output_type": "stream",
     "text": [
      "8.0\n"
     ]
    }
   ],
   "source": [
    "x = int(input())\n",
    "y = int(input())\n",
    "\n",
    "x = x/y\n",
    "y = y/x\n",
    "\n",
    "print(y)"
   ]
  },
  {
   "cell_type": "code",
   "execution_count": 5,
   "metadata": {},
   "outputs": [
    {
     "name": "stdout",
     "output_type": "stream",
     "text": [
      "Largest product of the pair of adjacent elements of the said list: 21\n"
     ]
    }
   ],
   "source": [
    "def solution(inputArray):\n",
    "    return max(a*b for a,b in zip(inputArray, inputArray[1:]))\n",
    "inputArray = [3, 6, -2, -5, 7, 3]\n",
    "print(\"Largest product of the pair of adjacent elements of the said list:\", solution(inputArray))\n"
   ]
  },
  {
   "cell_type": "code",
   "execution_count": 21,
   "metadata": {},
   "outputs": [
    {
     "name": "stdout",
     "output_type": "stream",
     "text": [
      "25\n"
     ]
    }
   ],
   "source": [
    "def solution(n):\n",
    "    return(((n-1)**2)+ (n)**2)\n",
    "n = 4\n",
    "print(solution(n))\n"
   ]
  },
  {
   "cell_type": "code",
   "execution_count": 74,
   "metadata": {},
   "outputs": [
    {
     "name": "stdout",
     "output_type": "stream",
     "text": [
      "3\n",
      "Ratiorg needs statues of sizes 4, 5, and 7.\n"
     ]
    }
   ],
   "source": [
    "def solution(statues):\n",
    "    numbers = set(statues)\n",
    "    length = len(statues)\n",
    "    output = []\n",
    "    for i in range(min(statues),statues[-1]):\n",
    "        if i not in numbers:\n",
    "            output.append(i)\n",
    "    return output\n",
    "\n",
    "statues = [6, 2, 3, 8]\n",
    "print(len(solution(statues)))\n",
    "print(\"Ratiorg needs statues of sizes \" + str(solution(statues))[1] + \", \" + str(solution(statues))[4] + \", and \" + str(solution(statues))[7] + \".\")"
   ]
  },
  {
   "cell_type": "code",
   "execution_count": 76,
   "metadata": {},
   "outputs": [
    {
     "name": "stdout",
     "output_type": "stream",
     "text": [
      "3\n"
     ]
    }
   ],
   "source": [
    "def solution(statues):\n",
    "    return max(statues) - min(statues) - len(statues) + 1\n",
    "statues = [6, 2, 3, 8]\n",
    "print((solution(statues)))"
   ]
  },
  {
   "cell_type": "code",
   "execution_count": 7,
   "metadata": {},
   "outputs": [
    {
     "name": "stdout",
     "output_type": "stream",
     "text": [
      "False\n"
     ]
    }
   ],
   "source": [
    "def solution(sequence):\n",
    "    def check_increasing(seq):\n",
    "    # This will check if it is increasing:\n",
    "    # If it is return -1 else return the element at which is it not increasing\n",
    "        for i in range(len(seq)-1):\n",
    "            if seq[i] >= seq[i+1]:\n",
    "                return i\n",
    "        return -1\n",
    "    check = check_increasing(sequence)\n",
    "    # List is increasing\n",
    "    if check == -1:\n",
    "        return True\n",
    "    # Check if removing an item will make a strictly increasing list\n",
    "    if check_increasing(sequence[check-1:check] + sequence[check+1:]) == -1 or check_increasing(sequence[check:check+1] + sequence[check+2:]) == -1:\n",
    "        return True\n",
    "    # If not return False, since more than 1 element needs to be removed\n",
    "    return False\n",
    "\n",
    "sequence = [11,2,10,5,7]\n",
    "print(solution(sequence))\n",
    "\n"
   ]
  },
  {
   "cell_type": "code",
   "execution_count": null,
   "metadata": {},
   "outputs": [],
   "source": [
    "# As you surely know, due to some astronomical reasons, years may be leap or common. The former are 366 days long, while the latter are 365 days long.\n",
    "\n",
    "# Since the introduction of the Gregorian calendar (in 1582), the following rule is used to determine the kind of year:\n",
    "\n",
    "# if the year number isn't divisible by four, it's a common year;\n",
    "# otherwise, if the year number isn't divisible by 100, it's a leap year;\n",
    "# otherwise, if the year number isn't divisible by 400, it's a common year;\n",
    "# otherwise, it's a leap year.\n",
    "# Look at the code in the editor - it only reads a year number, and needs to be completed with the instructions implementing the test we've just described.\n",
    "\n",
    "# The code should output one of two possible messages, which are Leap year or Common year, depending on the value entered.\n",
    "\n",
    "# It would be good to verify if the entered year falls into the Gregorian era, and output a warning otherwise: Not within the Gregorian calendar period. Tip: use the != and % operators.\n",
    "\n",
    "year = int(input(\"Enter a year: \"))\n",
    "\n",
    "if year%4 != 0:\n",
    "    print(\"common year\")\n",
    "if year%100 != 0:\n",
    "    print(\"leap year\")\n",
    "if year%400 != 0:\n",
    "    print(\"common  year\")\n",
    "if year < 1582:\n",
    "    print(\"Not within the Gregorian calendar\")\n",
    "else:\n",
    "    print(\"leap year\")\n"
   ]
  },
  {
   "cell_type": "code",
   "execution_count": null,
   "metadata": {},
   "outputs": [],
   "source": [
    "x, y, z = 5, 10, 8\n",
    "\n",
    "print(x > z)\n",
    "print((y - 5) == x)"
   ]
  },
  {
   "cell_type": "code",
   "execution_count": 1,
   "metadata": {},
   "outputs": [
    {
     "name": "stdout",
     "output_type": "stream",
     "text": [
      "The largest number is: 10000000000000000000000000000000\n"
     ]
    }
   ],
   "source": [
    "# Store the current largest number here.\n",
    "largest_number = -999999999\n",
    "\n",
    "# Input the first value.\n",
    "number = int(input(\"Enter a number or type -1 to stop: \"))\n",
    "\n",
    "# If the number is not equal to -1, continue.\n",
    "while number != -1:\n",
    "    # Is number larger than largest_number?\n",
    "    if number > largest_number:\n",
    "        # Yes, update largest_number.\n",
    "        largest_number = number\n",
    "    # Input the next number.\n",
    "    number = int(input(\"Enter a number or type -1 to stop: \"))\n",
    "\n",
    "# Print the largest number.\n",
    "print(\"The largest number is:\", largest_number)\n",
    "\n"
   ]
  },
  {
   "cell_type": "code",
   "execution_count": 1,
   "metadata": {},
   "outputs": [
    {
     "name": "stdout",
     "output_type": "stream",
     "text": [
      "Odd numbers count: 0\n",
      "Even numbers count: 2\n"
     ]
    }
   ],
   "source": [
    "# A program that reads a sequence of numbers\n",
    "# and counts how many numbers are even and how many are odd.\n",
    "# The program terminates when zero is entered.\n",
    "\n",
    "odd_numbers = 0\n",
    "even_numbers = 0\n",
    "\n",
    "# Read the first number.\n",
    "number = int(input(\"Enter a number or type 0 to stop: \"))\n",
    "\n",
    "# 0 terminates execution.\n",
    "while number != 0:\n",
    "    # Check if the number is odd.\n",
    "    if number % 2 == 1:\n",
    "        # Increase the odd_numbers counter.\n",
    "        odd_numbers += 1\n",
    "    else:\n",
    "        # Increase the even_numbers counter.\n",
    "        even_numbers += 1\n",
    "    # Read the next number.\n",
    "    number = int(input(\"Enter a number or type 0 to stop: \"))\n",
    "\n",
    "# Print results.\n",
    "print(\"Odd numbers count:\", odd_numbers)\n",
    "print(\"Even numbers count:\", even_numbers)\n",
    "\n"
   ]
  },
  {
   "cell_type": "code",
   "execution_count": 1,
   "metadata": {},
   "outputs": [
    {
     "name": "stdout",
     "output_type": "stream",
     "text": [
      "Ha ha! You're stuck in my loop!\n",
      "Well done, muggle! You are free now.\n"
     ]
    }
   ],
   "source": [
    "# Scenario\n",
    "# A junior magician has picked a secret number. He has hidden it in a variable named secret_number. He wants everyone who run his program to play the Guess the secret number game, and guess what number he has picked for them. Those who don't guess the number will be stuck in an endless loop forever! Unfortunately, he does not know how to complete the code.\n",
    "\n",
    "# Your task is to help the magician complete the code in the editor in such a way so that the code:\n",
    "\n",
    "# will ask the user to enter an integer number;\n",
    "# will use a while loop;\n",
    "# will check whether the number entered by the user is the same as the number picked by the magician. If the number chosen by the user is different than the magician's secret number, the user should see the message \"Ha ha! You're stuck in my loop!\" and be prompted to enter a number again. If the number entered by the user matches the number picked by the magician, the number should be printed to the screen, and the magician should say the following words: \"Well done, muggle! You are free now.\"\n",
    "\n",
    "secret_number = 777\n",
    "\n",
    "number = int(input(\"Enter a number or type 777 to stop: \"))\n",
    "\n",
    "while number != 777:\n",
    "    if number != 777:\n",
    "        print(\"Ha ha! You're stuck in my loop!\")\n",
    "    if number == 777:\n",
    "        print(\"Well done, muggle! You are free now.\")\n",
    "    number = int(input(\"Enter a number or type 777 to stop: \"))\n",
    "print(\"Well done, muggle! You are free now.\")\n"
   ]
  }
 ],
 "metadata": {
  "kernelspec": {
   "display_name": "Python 3",
   "language": "python",
   "name": "python3"
  },
  "language_info": {
   "codemirror_mode": {
    "name": "ipython",
    "version": 3
   },
   "file_extension": ".py",
   "mimetype": "text/x-python",
   "name": "python",
   "nbconvert_exporter": "python",
   "pygments_lexer": "ipython3",
   "version": "3.9.12 (main, Apr  4 2022, 05:22:27) [MSC v.1916 64 bit (AMD64)]"
  },
  "orig_nbformat": 4,
  "vscode": {
   "interpreter": {
    "hash": "0186a538ad27e2db57fefa14172f824d8896a2c272936670a25fa8d5fb9a4dc9"
   }
  }
 },
 "nbformat": 4,
 "nbformat_minor": 2
}
